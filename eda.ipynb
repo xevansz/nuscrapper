{
 "cells": [
  {
   "cell_type": "markdown",
   "id": "eb419342",
   "metadata": {},
   "source": [
    "## Data Cleaning"
   ]
  },
  {
   "cell_type": "code",
   "execution_count": null,
   "id": "ab6d1a6f",
   "metadata": {},
   "outputs": [],
   "source": [
    "# load dataset\n",
    "df = pd.read_csv(\"Novelupdates_info.csv\")\n",
    "df2 = pd.read_csv(\"Novelupdates_info2.csv\")\n",
    "df3 = pd.read_csv(\"Novelupdates_info3.csv\")\n",
    "df4 = pd.read_csv(\"Novelupdates_info4.csv\")"
   ]
  },
  {
   "cell_type": "code",
   "execution_count": 16,
   "id": "00cd137f",
   "metadata": {},
   "outputs": [
    {
     "data": {
      "text/html": [
       "<div>\n",
       "<style scoped>\n",
       "    .dataframe tbody tr th:only-of-type {\n",
       "        vertical-align: middle;\n",
       "    }\n",
       "\n",
       "    .dataframe tbody tr th {\n",
       "        vertical-align: top;\n",
       "    }\n",
       "\n",
       "    .dataframe thead th {\n",
       "        text-align: right;\n",
       "    }\n",
       "</style>\n",
       "<table border=\"1\" class=\"dataframe\">\n",
       "  <thead>\n",
       "    <tr style=\"text-align: right;\">\n",
       "      <th></th>\n",
       "      <th>Title</th>\n",
       "      <th>Cover</th>\n",
       "      <th>Chapters</th>\n",
       "      <th>Update Frequency</th>\n",
       "      <th>Readers</th>\n",
       "      <th>Reviews</th>\n",
       "      <th>Last Updated</th>\n",
       "      <th>Genres</th>\n",
       "      <th>Origin</th>\n",
       "      <th>Rating</th>\n",
       "      <th>Description</th>\n",
       "      <th>Source</th>\n",
       "    </tr>\n",
       "  </thead>\n",
       "  <tbody>\n",
       "    <tr>\n",
       "      <th>0</th>\n",
       "      <td>Don’t Call Me Your Wife (GL)</td>\n",
       "      <td>NaN</td>\n",
       "      <td>95 Chapters</td>\n",
       "      <td>Every 0.9 Day(s)</td>\n",
       "      <td>152 Readers</td>\n",
       "      <td>1 Reviews</td>\n",
       "      <td>06-15-2025</td>\n",
       "      <td>['Action', 'Adventure', 'Fantasy', 'Romance', ...</td>\n",
       "      <td>NaN</td>\n",
       "      <td>NaN</td>\n",
       "      <td>A fiery and sharp character x a gentle and cun...</td>\n",
       "      <td>https://www.novelupdates.com/series/dont-call-...</td>\n",
       "    </tr>\n",
       "    <tr>\n",
       "      <th>1</th>\n",
       "      <td>I Became a Rare Species in the Immortal Cultiv...</td>\n",
       "      <td>NaN</td>\n",
       "      <td>28 Chapters</td>\n",
       "      <td>Every 0.7 Day(s)</td>\n",
       "      <td>76 Readers</td>\n",
       "      <td>1 Reviews</td>\n",
       "      <td>06-15-2025</td>\n",
       "      <td>['Action', 'Adventure', 'Martial Arts', 'Roman...</td>\n",
       "      <td>NaN</td>\n",
       "      <td>NaN</td>\n",
       "      <td>The Heavenly Dao bestowed blessings from the I...</td>\n",
       "      <td>https://www.novelupdates.com/series/i-became-a...</td>\n",
       "    </tr>\n",
       "    <tr>\n",
       "      <th>2</th>\n",
       "      <td>I Come From the Abyss to Save Humanity Today</td>\n",
       "      <td>NaN</td>\n",
       "      <td>86 Chapters</td>\n",
       "      <td>Every 3.3 Day(s)</td>\n",
       "      <td>648 Readers</td>\n",
       "      <td>4 Reviews</td>\n",
       "      <td>06-15-2025</td>\n",
       "      <td>['Action', 'Drama', 'Fantasy', 'Gender Bender'...</td>\n",
       "      <td>NaN</td>\n",
       "      <td>NaN</td>\n",
       "      <td>The Abyss—represents pure annihilation, they p...</td>\n",
       "      <td>https://www.novelupdates.com/series/i-come-fro...</td>\n",
       "    </tr>\n",
       "    <tr>\n",
       "      <th>3</th>\n",
       "      <td>How to Survive as the Horror Game Villain’s Fa...</td>\n",
       "      <td>NaN</td>\n",
       "      <td>7 Chapters</td>\n",
       "      <td>Every 4.7 Day(s)</td>\n",
       "      <td>156 Readers</td>\n",
       "      <td>0 Reviews</td>\n",
       "      <td>06-15-2025</td>\n",
       "      <td>['Fantasy', 'Romance', 'Smut']</td>\n",
       "      <td>NaN</td>\n",
       "      <td>NaN</td>\n",
       "      <td>“I’ll ask again. Who are you?”</td>\n",
       "      <td>https://www.novelupdates.com/series/how-to-sur...</td>\n",
       "    </tr>\n",
       "    <tr>\n",
       "      <th>4</th>\n",
       "      <td>After Becoming the Aunt of the Dragon Hero</td>\n",
       "      <td>NaN</td>\n",
       "      <td>178 Chapters</td>\n",
       "      <td>Every 0.5 Day(s)</td>\n",
       "      <td>575 Readers</td>\n",
       "      <td>0 Reviews</td>\n",
       "      <td>06-15-2025</td>\n",
       "      <td>['Action', 'Comedy', 'Fantasy', 'Martial Arts'...</td>\n",
       "      <td>NaN</td>\n",
       "      <td>NaN</td>\n",
       "      <td>Ming He always believed she had entered a worl...</td>\n",
       "      <td>https://www.novelupdates.com/series/after-beco...</td>\n",
       "    </tr>\n",
       "  </tbody>\n",
       "</table>\n",
       "</div>"
      ],
      "text/plain": [
       "                                               Title  Cover      Chapters  \\\n",
       "0                       Don’t Call Me Your Wife (GL)    NaN   95 Chapters   \n",
       "1  I Became a Rare Species in the Immortal Cultiv...    NaN   28 Chapters   \n",
       "2       I Come From the Abyss to Save Humanity Today    NaN   86 Chapters   \n",
       "3  How to Survive as the Horror Game Villain’s Fa...    NaN    7 Chapters   \n",
       "4         After Becoming the Aunt of the Dragon Hero    NaN  178 Chapters   \n",
       "\n",
       "   Update Frequency      Readers    Reviews Last Updated  \\\n",
       "0  Every 0.9 Day(s)  152 Readers  1 Reviews   06-15-2025   \n",
       "1  Every 0.7 Day(s)   76 Readers  1 Reviews   06-15-2025   \n",
       "2  Every 3.3 Day(s)  648 Readers  4 Reviews   06-15-2025   \n",
       "3  Every 4.7 Day(s)  156 Readers  0 Reviews   06-15-2025   \n",
       "4  Every 0.5 Day(s)  575 Readers  0 Reviews   06-15-2025   \n",
       "\n",
       "                                              Genres  Origin  Rating  \\\n",
       "0  ['Action', 'Adventure', 'Fantasy', 'Romance', ...     NaN     NaN   \n",
       "1  ['Action', 'Adventure', 'Martial Arts', 'Roman...     NaN     NaN   \n",
       "2  ['Action', 'Drama', 'Fantasy', 'Gender Bender'...     NaN     NaN   \n",
       "3                     ['Fantasy', 'Romance', 'Smut']     NaN     NaN   \n",
       "4  ['Action', 'Comedy', 'Fantasy', 'Martial Arts'...     NaN     NaN   \n",
       "\n",
       "                                         Description  \\\n",
       "0  A fiery and sharp character x a gentle and cun...   \n",
       "1  The Heavenly Dao bestowed blessings from the I...   \n",
       "2  The Abyss—represents pure annihilation, they p...   \n",
       "3                     “I’ll ask again. Who are you?”   \n",
       "4  Ming He always believed she had entered a worl...   \n",
       "\n",
       "                                              Source  \n",
       "0  https://www.novelupdates.com/series/dont-call-...  \n",
       "1  https://www.novelupdates.com/series/i-became-a...  \n",
       "2  https://www.novelupdates.com/series/i-come-fro...  \n",
       "3  https://www.novelupdates.com/series/how-to-sur...  \n",
       "4  https://www.novelupdates.com/series/after-beco...  "
      ]
     },
     "execution_count": 16,
     "metadata": {},
     "output_type": "execute_result"
    }
   ],
   "source": [
    "df.head()"
   ]
  },
  {
   "cell_type": "code",
   "execution_count": null,
   "id": "94f07ac8",
   "metadata": {},
   "outputs": [],
   "source": [
    "# combine datasets and drop duplicates\n",
    "data = pd.concat([df, df2, df3, df4])\n",
    "data.drop_duplicates(subset=[\"Title\", \"Source\"], inplace=True)"
   ]
  },
  {
   "cell_type": "code",
   "execution_count": null,
   "id": "0939f110",
   "metadata": {},
   "outputs": [],
   "source": [
    "# fill missing descriptions\n",
    "data[\"Description\"].fillna(\"There is no description for this\", inplace=True)"
   ]
  },
  {
   "cell_type": "code",
   "execution_count": 30,
   "id": "f7866741",
   "metadata": {},
   "outputs": [],
   "source": [
    "# to clean html chapters\n",
    "data[\"Description\"] = data[\"Description\"].apply(lambda x: re.sub(r\"<.*?>\", \"\", x).strip())"
   ]
  },
  {
   "cell_type": "code",
   "execution_count": null,
   "id": "66f187a8",
   "metadata": {},
   "outputs": [],
   "source": [
    "# converting chapters and up freq to integers\n",
    "data[\"Chapters\"] = data[\"Chapters\"].str.extract(r'(\\d+)').astype(int)\n",
    "data[\"Update Frequency\"] = data[\"Update Frequency\"].str.extract(r'(\\d+)').astype(int)\n",
    "data[\"Readers\"] = data[\"Readers\"].str.extract(r'(\\d+)').astype(int)\n",
    "data[\"Reviews\"] = data[\"Reviews\"].str.extract(r'(\\d+)').astype(int)"
   ]
  },
  {
   "cell_type": "code",
   "execution_count": 67,
   "id": "7a0f3f50",
   "metadata": {},
   "outputs": [],
   "source": [
    "# to convert the str into a list\n",
    "def parse(x):\n",
    "    # use literal_eval if it's list or covert into list [genre.strip() for genre in x.split(\",\")]\n",
    "    pass\n",
    "\n",
    "data[\"Genres\"] = data[\"Genres\"].apply(ast.literal_eval)"
   ]
  },
  {
   "cell_type": "code",
   "execution_count": 77,
   "id": "2bd2edc0",
   "metadata": {},
   "outputs": [],
   "source": [
    "# change last updated from str to datetime\n",
    "data[\"Last Updated\"] = pd.to_datetime(data[\"Last Updated\"], errors=\"coerce\")"
   ]
  },
  {
   "cell_type": "code",
   "execution_count": null,
   "id": "0e909df8",
   "metadata": {},
   "outputs": [
    {
     "name": "stdout",
     "output_type": "stream",
     "text": [
      "<class 'pandas.core.frame.DataFrame'>\n",
      "Index: 2500 entries, 0 to 130225\n",
      "Data columns (total 9 columns):\n",
      " #   Column            Non-Null Count  Dtype         \n",
      "---  ------            --------------  -----         \n",
      " 0   Title             2500 non-null   object        \n",
      " 1   Chapters          2500 non-null   int64         \n",
      " 2   Update Frequency  2500 non-null   int64         \n",
      " 3   Readers           2500 non-null   int64         \n",
      " 4   Reviews           2500 non-null   int64         \n",
      " 5   Last Updated      2500 non-null   datetime64[ns]\n",
      " 6   Genres            2500 non-null   object        \n",
      " 7   Description       2500 non-null   object        \n",
      " 8   Source            2500 non-null   object        \n",
      "dtypes: datetime64[ns](1), int64(4), object(4)\n",
      "memory usage: 259.9+ KB\n"
     ]
    }
   ],
   "source": [
    "# data.drop([\"Rating\", \"Origin\", \"Cover\"], axis=1, inplace=True)\n",
    "data.info()"
   ]
  },
  {
   "cell_type": "code",
   "execution_count": 85,
   "id": "ba36d33b",
   "metadata": {},
   "outputs": [],
   "source": [
    "data.to_csv(\"cleaned.csv\", index=False)"
   ]
  },
  {
   "cell_type": "markdown",
   "id": "9b499658",
   "metadata": {},
   "source": [
    "## EDA and Visualization"
   ]
  },
  {
   "cell_type": "code",
   "execution_count": 99,
   "id": "0a60650f",
   "metadata": {},
   "outputs": [],
   "source": [
    "import matplotlib.pyplot as plt\n",
    "import seaborn as sns\n",
    "from collections import Counter"
   ]
  },
  {
   "cell_type": "code",
   "execution_count": null,
   "id": "caace17c",
   "metadata": {},
   "outputs": [],
   "source": [
    "# counting frequency of each genre\n",
    "\n",
    "all_genres = [x for sublist in data[\"Genres\"] for x in sublist]\n",
    "all_genres_count = Counter(all_genres)\n",
    "sorted_genres = sorted(all_genres_count.items(), key=lambda x:x[1], reverse=True)\n",
    "\n",
    "genre_df = pd.DataFrame(all_genres_count.items(), columns=['Genre', 'Count']).sort_values(by='Count', ascending=False)"
   ]
  },
  {
   "cell_type": "code",
   "execution_count": 126,
   "id": "5f5630cd",
   "metadata": {},
   "outputs": [
    {
     "data": {
      "image/png": "[encoded data removed]",
      "text/plain": [
       "<Figure size 640x480 with 1 Axes>"
      ]
     },
     "metadata": {},
     "output_type": "display_data"
    }
   ],
   "source": [
    "# plotting genres\n",
    "sns.barplot(x='Genre', y='Count', data=genre_df.head(20), hue='Genre', palette='viridis')\n",
    "plt.xticks(rotation=75)\n",
    "plt.show()"
   ]
  },
  {
   "cell_type": "code",
   "execution_count": null,
   "id": "76bf19b7",
   "metadata": {},
   "outputs": [],
   "source": []
  }
 ],
 "metadata": {
  "kernelspec": {
   "display_name": "ply",
   "language": "python",
   "name": "python3"
  },
  "language_info": {
   "codemirror_mode": {
    "name": "ipython",
    "version": 3
   },
   "file_extension": ".py",
   "mimetype": "text/x-python",
   "name": "python",
   "nbconvert_exporter": "python",
   "pygments_lexer": "ipython3",
   "version": "3.13.3"
  }
 },
 "nbformat": 4,
 "nbformat_minor": 5
}
